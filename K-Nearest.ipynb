{
 "cells": [
  {
   "cell_type": "markdown",
   "id": "e3764c49-c85b-4982-9b20-3266ccb180f0",
   "metadata": {},
   "source": [
    "# K-Nearest"
   ]
  },
  {
   "cell_type": "markdown",
   "id": "37a2f63d-40fd-45a1-83f3-5889b9734555",
   "metadata": {},
   "source": [
    "Sirve esencialmente para clasificar valores buscando los puntos de datos “más similares” (por cercanía) aprendidos en la etapa de entrenamiento.\n",
    "Clasifica cada punto en una categoría, basándose en la categoría de sus vecinos más cercanos. \n",
    "Suele utilizarse en sistemas de recomendación, búsqueda semántica y detección de anomalías. \n",
    "\n",
    "    https://www.aprendemachinelearning.com/clasificar-con-k-nearest-neighbor-ejemplo-en-python/#:~:text=K%2DNearest%2DNeighbor%20es%20un,el%20mundo%20del%20Aprendizaje%20Autom%C3%A1tico.\n",
    "    \n",
    "    Pros: Sencillo de aprender e implementar. Robusto y versátil.\n",
    "    Contras: Utiliza todo el dataset para entrenar “cada punto” y por eso requiere de uso de mucha memoria y recursos CPU. \n",
    "    \n",
    "    Cómo funciona:\n",
    "        1. Calcula la distancia entre el item a clasificar y el resto de items del dataset de entrenamiento.\n",
    "        2. Selecciona los “k” elementos más cercanos (con menor distancia, según la función que se use)\n",
    "        3. Realiza una “votación de mayoría” entre los k puntos: los de una clase/etiqueta que <<dominen>> decidirán su clasificación final."
   ]
  },
  {
   "cell_type": "code",
   "execution_count": 36,
   "id": "4fed2c9f-c758-498c-9b4f-64f806b49496",
   "metadata": {},
   "outputs": [],
   "source": [
    "from sklearn.neighbors import KNeighborsClassifier\n",
    "import numpy as np\n",
    "import pandas as pd\n",
    "\n",
    "df = pd.read_csv(\"Datos/pokemon.csv\")"
   ]
  },
  {
   "cell_type": "markdown",
   "id": "e57671c3-b965-4671-ba6b-51521545a3bf",
   "metadata": {
    "tags": []
   },
   "source": [
    "Podemos utilizar este algoritmo para ver cuáles son los Pokémon más defensivos físicamente hablando:"
   ]
  },
  {
   "cell_type": "code",
   "execution_count": 37,
   "id": "a02d2a15-c8cf-4aa3-9520-d5c68b5db87b",
   "metadata": {},
   "outputs": [],
   "source": [
    "dfP = df[[\"base_total\", \"defense\", \"attack\", \"sp_defense\", \"speed\", \"sp_attack\"]].dropna()"
   ]
  },
  {
   "cell_type": "markdown",
   "id": "0724ccfc-0f83-4f96-b7c1-9c830fa2c2aa",
   "metadata": {},
   "source": [
    "Vemos cuántos Pokémon tienen una Defensa de 80 puntos o más"
   ]
  },
  {
   "cell_type": "code",
   "execution_count": 38,
   "id": "c664115a-28ed-4e10-b0a3-300a7ab57980",
   "metadata": {},
   "outputs": [],
   "source": [
    "filtro = dfP[\"defense\"] > 80"
   ]
  },
  {
   "cell_type": "code",
   "execution_count": 39,
   "id": "f225deba-bcb5-4945-a3ed-0ff7ab96b52a",
   "metadata": {},
   "outputs": [],
   "source": [
    "# Ponemos etiquetas\n",
    "dfP[\"defense\"][filtro] = \"Fuerte\"\n",
    "dfP[\"defense\"][filtro == False] = \"Normal-Bajo\""
   ]
  },
  {
   "cell_type": "code",
   "execution_count": 40,
   "id": "22a9e0e0-38b6-4dda-bfa7-f93607546237",
   "metadata": {},
   "outputs": [],
   "source": [
    "# Todas las columnas que no son la defensa\n",
    "cols = dfP.drop([\"defense\"], axis=1)"
   ]
  },
  {
   "cell_type": "code",
   "execution_count": 41,
   "id": "04c08d4e-3925-40f0-858f-21884ee546c3",
   "metadata": {},
   "outputs": [
    {
     "data": {
      "text/plain": [
       "0    Normal-Bajo\n",
       "1    Normal-Bajo\n",
       "2         Fuerte\n",
       "3    Normal-Bajo\n",
       "4    Normal-Bajo\n",
       "Name: defense, dtype: object"
      ]
     },
     "execution_count": 41,
     "metadata": {},
     "output_type": "execute_result"
    }
   ],
   "source": [
    "dfP[\"defense\"].head()"
   ]
  },
  {
   "cell_type": "code",
   "execution_count": 42,
   "id": "97a36528-e26b-4fc0-9f86-d2f2a0f61ea7",
   "metadata": {},
   "outputs": [],
   "source": [
    "nbrs_3 = KNeighborsClassifier(n_neighbors = 3, n_jobs = -1)"
   ]
  },
  {
   "cell_type": "code",
   "execution_count": 43,
   "id": "ecd4a6bc-0952-4104-8d9d-0a707c96600a",
   "metadata": {},
   "outputs": [
    {
     "data": {
      "text/plain": [
       "KNeighborsClassifier(n_jobs=-1, n_neighbors=3)"
      ]
     },
     "execution_count": 43,
     "metadata": {},
     "output_type": "execute_result"
    }
   ],
   "source": [
    "nbrs_3.fit(cols, dfP[\"defense\"])"
   ]
  },
  {
   "cell_type": "code",
   "execution_count": 44,
   "id": "6f0bc4a5-e4e1-427d-a62d-861361bebdda",
   "metadata": {},
   "outputs": [],
   "source": [
    "pred = nbrs_3.predict(cols)"
   ]
  },
  {
   "cell_type": "code",
   "execution_count": 45,
   "id": "3e8f3af7-586c-4755-b264-178d7656dd38",
   "metadata": {},
   "outputs": [
    {
     "data": {
      "text/plain": [
       "0.9038701622971286"
      ]
     },
     "execution_count": 45,
     "metadata": {},
     "output_type": "execute_result"
    }
   ],
   "source": [
    "# El 90% están clasificados correctamente, esta medida puede ser engañosa, ya que no conocemos la proporción de nuestros datos\n",
    "np.mean(pred == dfP[\"defense\"])"
   ]
  },
  {
   "cell_type": "code",
   "execution_count": 46,
   "id": "a7aee79b-77ef-4ef0-929f-37a10687cf29",
   "metadata": {},
   "outputs": [
    {
     "data": {
      "text/plain": [
       "0.3233458177278402"
      ]
     },
     "execution_count": 46,
     "metadata": {},
     "output_type": "execute_result"
    }
   ],
   "source": [
    "# 32% de Pokemon con una defensa inferior a 80\n",
    "np.mean(dfP[\"defense\"] == \"Fuerte\")"
   ]
  },
  {
   "cell_type": "code",
   "execution_count": 47,
   "id": "a5e94e00-b5ff-419a-8f9d-43062b82f85a",
   "metadata": {},
   "outputs": [
    {
     "data": {
      "text/plain": [
       "0.6766541822721598"
      ]
     },
     "execution_count": 47,
     "metadata": {},
     "output_type": "execute_result"
    }
   ],
   "source": [
    "# 67% de Pokemon con una defensa superior a 80\n",
    "np.mean(dfP[\"defense\"] == \"Normal-Bajo\")"
   ]
  },
  {
   "cell_type": "code",
   "execution_count": 48,
   "id": "e350375e-ff2a-4b4a-a395-27334c09a1e8",
   "metadata": {},
   "outputs": [
    {
     "data": {
      "text/plain": [
       "0.8963795255930087"
      ]
     },
     "execution_count": 48,
     "metadata": {},
     "output_type": "execute_result"
    }
   ],
   "source": [
    "# Vamos a ir ajustando mejor la métrica, miramos dos vecinos.\n",
    "nbrs_1 = KNeighborsClassifier(n_neighbors = 2, n_jobs = -1)\n",
    "nbrs_1.fit(cols, dfP[\"defense\"])\n",
    "pred2 = nbrs_1.predict(cols)\n",
    "np.mean(pred2 == dfP[\"defense\"])"
   ]
  },
  {
   "cell_type": "code",
   "execution_count": 49,
   "id": "87d6e58d-c3d0-4c12-a87b-a5a94ce41777",
   "metadata": {},
   "outputs": [
    {
     "name": "stdout",
     "output_type": "stream",
     "text": [
      "[[259   0]\n",
      " [ 83 459]]\n"
     ]
    }
   ],
   "source": [
    "# Exploramos la matriz de confusión para ver cuánto de bien hemos predicho los casos.\n",
    "from sklearn.metrics import confusion_matrix\n",
    "confusion_matrix = confusion_matrix(dfP[\"defense\"], pred2)\n",
    "print(confusion_matrix)"
   ]
  },
  {
   "cell_type": "code",
   "execution_count": 50,
   "id": "8dce09d4-d468-43d4-aade-dfe705164bef",
   "metadata": {},
   "outputs": [],
   "source": [
    "# (0,0) -> En este caso el valor real de los datos eran 0 (False = débil) y el modelo ha predicho como 0 (débil).\n",
    "# (0,1) -> En este caso el valor real de los datos eran 0 (False = défil) y el modelo ha predicho como 1 (fuerte).\n",
    "# (1,0) -> En este caso el valor real de los datos eran 1 (True = fuerte) y el modelo ha predicho como 0 (débil).\n",
    "# (1,1) -> En este caso el valor real de los datos eran 1 (True = fuerte) y el modelo ha predicho como 1 (fuerte)."
   ]
  },
  {
   "cell_type": "markdown",
   "id": "37a3d2bf-d20b-4850-a9cd-8b1fc65d2a93",
   "metadata": {},
   "source": [
    "# Interpretabilidad - Curva ROC/AUC"
   ]
  },
  {
   "cell_type": "markdown",
   "id": "8390c650-0bfe-44ea-9172-df1915a6d2e1",
   "metadata": {},
   "source": [
    "Representa 2 parámetros: \n",
    "   - Tasa de verdaderos positivos\n",
    "   - Tasa de falsos positivos"
   ]
  },
  {
   "cell_type": "code",
   "execution_count": 54,
   "id": "a2634442-0012-45b0-8a48-d8406ce818b2",
   "metadata": {},
   "outputs": [],
   "source": [
    "### Bibliotecas básicas de gestión de datos\n",
    "import pandas as pd\n",
    "import numpy as np\n",
    "\n",
    "### Bibliotecas gráficas\n",
    "import matplotlib.pyplot as plt\n",
    "import seaborn as sns \n",
    "\n",
    "### Utilidades Scikit-learn \n",
    "from sklearn.model_selection import train_test_split\n",
    "\n",
    "### Métricas\n",
    "from sklearn import metrics\n",
    "from sklearn.metrics import accuracy_score, roc_curve, auc\n",
    "\n",
    "### Modelos\n",
    "from xgboost import XGBClassifier, plot_importance\n",
    "\n",
    "########################################################\n",
    "### Para un flujo de trabajo más rápido, las bibliotecas de Interpretabilidad\n",
    "### se instalarán/cargarán sobre la marcha del tutorial\n",
    "########################################################\n",
    "\n",
    "### Add-ons adicionales\n",
    "import warnings\n",
    "warnings.filterwarnings('ignore')\n",
    "plt.style.use('fivethirtyeight')\n",
    "%matplotlib inline"
   ]
  },
  {
   "cell_type": "code",
   "execution_count": 57,
   "id": "a5e58526-7d46-41b4-aa82-6dc5b45ab944",
   "metadata": {},
   "outputs": [
    {
     "ename": "NameError",
     "evalue": "name 'xgb' is not defined",
     "output_type": "error",
     "traceback": [
      "\u001b[1;31m---------------------------------------------------------------------------\u001b[0m",
      "\u001b[1;31mNameError\u001b[0m                                 Traceback (most recent call last)",
      "\u001b[1;32m<ipython-input-57-99cf818f5349>\u001b[0m in \u001b[0;36m<module>\u001b[1;34m\u001b[0m\n\u001b[1;32m----> 1\u001b[1;33m \u001b[0mprobs\u001b[0m \u001b[1;33m=\u001b[0m \u001b[0mxgb\u001b[0m\u001b[1;33m.\u001b[0m\u001b[0mpredict_proba\u001b[0m\u001b[1;33m(\u001b[0m\u001b[0mX_test\u001b[0m\u001b[1;33m)\u001b[0m\u001b[1;33m\u001b[0m\u001b[1;33m\u001b[0m\u001b[0m\n\u001b[0m\u001b[0;32m      2\u001b[0m \u001b[1;33m\u001b[0m\u001b[0m\n\u001b[0;32m      3\u001b[0m \u001b[1;31m# Probabilidades positivas\u001b[0m\u001b[1;33m\u001b[0m\u001b[1;33m\u001b[0m\u001b[1;33m\u001b[0m\u001b[0m\n\u001b[0;32m      4\u001b[0m \u001b[0mpreds\u001b[0m \u001b[1;33m=\u001b[0m \u001b[0mprobs\u001b[0m\u001b[1;33m[\u001b[0m\u001b[1;33m:\u001b[0m\u001b[1;33m,\u001b[0m\u001b[1;36m1\u001b[0m\u001b[1;33m]\u001b[0m\u001b[1;33m\u001b[0m\u001b[1;33m\u001b[0m\u001b[0m\n\u001b[0;32m      5\u001b[0m \u001b[0mfpr\u001b[0m\u001b[1;33m,\u001b[0m \u001b[0mtpr\u001b[0m\u001b[1;33m,\u001b[0m \u001b[0mthreshold\u001b[0m \u001b[1;33m=\u001b[0m \u001b[0mmetrics\u001b[0m\u001b[1;33m.\u001b[0m\u001b[0mroc_curve\u001b[0m\u001b[1;33m(\u001b[0m\u001b[0my_test\u001b[0m\u001b[1;33m,\u001b[0m \u001b[0mpreds\u001b[0m\u001b[1;33m)\u001b[0m\u001b[1;33m\u001b[0m\u001b[1;33m\u001b[0m\u001b[0m\n",
      "\u001b[1;31mNameError\u001b[0m: name 'xgb' is not defined"
     ]
    }
   ],
   "source": [
    "probs = xgb.predict_proba(X_test)\n",
    "\n",
    "# Probabilidades positivas\n",
    "preds = probs[:,1]\n",
    "fpr, tpr, threshold = metrics.roc_curve(y_test, preds)\n",
    "roc_auc = metrics.auc(fpr, tpr)\n",
    "\n",
    "plt.title('Receiver Operating Characteristic')\n",
    "plt.plot(fpr, tpr, 'red', label = 'ROC AUC score = %0.2f' % roc_auc)\n",
    "plt.legend(loc = 'lower right')\n",
    "plt.plot([0, 1], [0, 1],'b--')\n",
    "plt.xlim([0, 1])\n",
    "plt.ylim([0, 1])\n",
    "plt.ylabel('True Positive Rate')\n",
    "plt.xlabel('False Positive Rate')\n",
    "plt.show()"
   ]
  },
  {
   "cell_type": "code",
   "execution_count": null,
   "id": "2242a3f5-d353-49f4-8d7d-16b7f97a405a",
   "metadata": {},
   "outputs": [],
   "source": []
  }
 ],
 "metadata": {
  "kernelspec": {
   "display_name": "Python 3",
   "language": "python",
   "name": "python3"
  },
  "language_info": {
   "codemirror_mode": {
    "name": "ipython",
    "version": 3
   },
   "file_extension": ".py",
   "mimetype": "text/x-python",
   "name": "python",
   "nbconvert_exporter": "python",
   "pygments_lexer": "ipython3",
   "version": "3.8.8"
  }
 },
 "nbformat": 4,
 "nbformat_minor": 5
}
