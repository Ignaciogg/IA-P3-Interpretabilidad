{
 "cells": [
  {
   "cell_type": "code",
   "execution_count": null,
   "source": [
    "import pandas as pd\r\n",
    "import numpy as np\r\n",
    "from sklearn.naive_bayes import BernoulliNB\r\n",
    "from sklearn.naive_bayes import MultinomialNB\r\n",
    "from sklearn.naive_bayes import GaussianNB\r\n",
    "\r\n",
    "df = pd.read_csv(\"Datos/Cap 8/pokemon.csv\")\r\n",
    "df = df.sample(frac = 1)"
   ],
   "outputs": [],
   "metadata": {}
  },
  {
   "cell_type": "code",
   "execution_count": null,
   "source": [
    "df = df.dropna(subset = [\"ArrDelay\"])"
   ],
   "outputs": [],
   "metadata": {}
  },
  {
   "cell_type": "code",
   "execution_count": null,
   "source": [
    "# Variable respuesta, el retraso en la llegada con vuelos retrasados al menos un minuto.\r\n",
    "Y = df[\"ArrDelay\"] > 0"
   ],
   "outputs": [],
   "metadata": {}
  },
  {
   "cell_type": "code",
   "execution_count": null,
   "source": [
    "df[\"Month\"] = df[\"Month\"].apply(str)\r\n",
    "df[\"DayofMonth\"] = df[\"DayofMonth\"].apply(str)\r\n",
    "df[\"DayOfWeek\"] = df[\"DayOfWeek\"].apply(str)\r\n",
    "df[\"TailNum\"] = df[\"TailNum\"].apply(str)\r\n",
    "\r\n",
    "X = pd.get_dummies(data = df[[\"Month\", \"DayofMonth\", \"TailNum\", \"DayOfWeek\", \"Origin\", \"Dest\", \"UniqueCarrier\"]])"
   ],
   "outputs": [],
   "metadata": {}
  },
  {
   "cell_type": "code",
   "execution_count": null,
   "source": [
    "X.head()"
   ],
   "outputs": [],
   "metadata": {}
  },
  {
   "cell_type": "code",
   "execution_count": null,
   "source": [
    "# Ajustar el modelo\r\n",
    "clf = BernoulliNB()\r\n",
    "#clf = MultinomialNB()\r\n",
    "clf.fit(X, Y)\r\n",
    "Y_pred = clf.predict(X)"
   ],
   "outputs": [],
   "metadata": {}
  },
  {
   "cell_type": "code",
   "execution_count": null,
   "source": [
    "np.mean(Y == Y_pred)\r\n",
    "# Nos predice casi un 66% de los casos."
   ],
   "outputs": [],
   "metadata": {}
  },
  {
   "cell_type": "code",
   "execution_count": null,
   "source": [
    "1 - np.mean(Y)\r\n",
    "# Estamos ganando un 8% más en nuestro análisis explicativo."
   ],
   "outputs": [],
   "metadata": {}
  },
  {
   "cell_type": "code",
   "execution_count": null,
   "source": [
    "X = df[[\"AirTime\", \"Distance\", \"TaxiIn\", \"TaxiOut\"]] #Depdelay\r\n",
    "clf = GaussianNB()\r\n",
    "clf.fit(X, Y)\r\n",
    "Y_pred = clf.predict(X)"
   ],
   "outputs": [],
   "metadata": {}
  },
  {
   "cell_type": "code",
   "execution_count": null,
   "source": [
    "np.mean(Y == Y_pred)"
   ],
   "outputs": [],
   "metadata": {}
  },
  {
   "cell_type": "code",
   "execution_count": null,
   "source": [
    "X = df[[\"AirTime\", \"Distance\", \"TaxiIn\", \"TaxiOut\", \"DepDelay\"]] #Depdelay\r\n",
    "clf = GaussianNB()\r\n",
    "clf.fit(X, Y)\r\n",
    "Y_pred = clf.predict(X)"
   ],
   "outputs": [],
   "metadata": {}
  },
  {
   "cell_type": "code",
   "execution_count": null,
   "source": [
    "np.mean(Y == Y_pred)"
   ],
   "outputs": [],
   "metadata": {}
  }
 ],
 "metadata": {
  "orig_nbformat": 4,
  "language_info": {
   "name": "python"
  }
 },
 "nbformat": 4,
 "nbformat_minor": 2
}