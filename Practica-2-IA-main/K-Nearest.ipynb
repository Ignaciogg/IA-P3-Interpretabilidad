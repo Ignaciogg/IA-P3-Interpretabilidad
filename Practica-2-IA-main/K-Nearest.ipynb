{
 "cells": [
  {
   "cell_type": "markdown",
   "id": "e3764c49-c85b-4982-9b20-3266ccb180f0",
   "metadata": {},
   "source": [
    "# K-Nearest"
   ]
  },
  {
   "cell_type": "markdown",
   "id": "37a2f63d-40fd-45a1-83f3-5889b9734555",
   "metadata": {},
   "source": [
    "Sirve esencialmente para clasificar valores buscando los puntos de datos “más similares” (por cercanía) aprendidos en la etapa de entrenamiento.\n",
    "Clasifica cada punto en una categoría, basándose en la categoría de sus vecinos más cercanos. \n",
    "Suele utilizarse en sistemas de recomendación, búsqueda semántica y detección de anomalías. \n",
    "\n",
    "    https://www.aprendemachinelearning.com/clasificar-con-k-nearest-neighbor-ejemplo-en-python/#:~:text=K%2DNearest%2DNeighbor%20es%20un,el%20mundo%20del%20Aprendizaje%20Autom%C3%A1tico.\n",
    "    \n",
    "    Pros: Sencillo de aprender e implementar. Robusto y versátil.\n",
    "    Contras: Utiliza todo el dataset para entrenar “cada punto” y por eso requiere de uso de mucha memoria y recursos CPU. \n",
    "    \n",
    "    Cómo funciona:\n",
    "        1. Calcula la distancia entre el item a clasificar y el resto de items del dataset de entrenamiento.\n",
    "        2. Selecciona los “k” elementos más cercanos (con menor distancia, según la función que se use)\n",
    "        3. Realiza una “votación de mayoría” entre los k puntos: los de una clase/etiqueta que <<dominen>> decidirán su clasificación final."
   ]
  },
  {
   "cell_type": "code",
   "execution_count": 196,
   "id": "4fed2c9f-c758-498c-9b4f-64f806b49496",
   "metadata": {},
   "outputs": [],
   "source": [
    "from sklearn.neighbors import KNeighborsClassifier\n",
    "import numpy as np\n",
    "import pandas as pd\n",
    "\n",
    "df = pd.read_csv(\"pokemon.csv\")"
   ]
  },
  {
   "cell_type": "markdown",
   "id": "e57671c3-b965-4671-ba6b-51521545a3bf",
   "metadata": {
    "tags": []
   },
   "source": [
    "Podemos utilizar este algoritmo para ver cuáles son los Pokémon más defensivos físicamente hablando:"
   ]
  },
  {
   "cell_type": "code",
   "execution_count": 197,
   "id": "a02d2a15-c8cf-4aa3-9520-d5c68b5db87b",
   "metadata": {},
   "outputs": [],
   "source": [
    "dfP = df[[\"base_total\", \"defense\", \"attack\", \"sp_defense\", \"speed\", \"sp_attack\"]].dropna()"
   ]
  },
  {
   "cell_type": "markdown",
   "id": "0724ccfc-0f83-4f96-b7c1-9c830fa2c2aa",
   "metadata": {},
   "source": [
    "Vemos cuántos Pokémon tienen una Defensa de 80 puntos o más"
   ]
  },
  {
   "cell_type": "code",
   "execution_count": 198,
   "id": "c664115a-28ed-4e10-b0a3-300a7ab57980",
   "metadata": {},
   "outputs": [],
   "source": [
    "filtro = dfP[\"defense\"] > 80"
   ]
  },
  {
   "cell_type": "code",
   "execution_count": 199,
   "id": "f225deba-bcb5-4945-a3ed-0ff7ab96b52a",
   "metadata": {},
   "outputs": [],
   "source": [
    "# Ponemos etiquetas\n",
    "dfP[\"defense\"][filtro] = \"Fuerte\"\n",
    "dfP[\"defense\"][filtro == False] = \"Normal-Bajo\""
   ]
  },
  {
   "cell_type": "code",
   "execution_count": 200,
   "id": "22a9e0e0-38b6-4dda-bfa7-f93607546237",
   "metadata": {},
   "outputs": [],
   "source": [
    "# Todas las columnas que no son la defensa\n",
    "cols = dfP.drop([\"defense\"], axis=1)"
   ]
  },
  {
   "cell_type": "code",
   "execution_count": 201,
   "id": "04c08d4e-3925-40f0-858f-21884ee546c3",
   "metadata": {},
   "outputs": [
    {
     "data": {
      "text/plain": [
       "0    Normal-Bajo\n",
       "1    Normal-Bajo\n",
       "2         Fuerte\n",
       "3    Normal-Bajo\n",
       "4    Normal-Bajo\n",
       "Name: defense, dtype: object"
      ]
     },
     "execution_count": 201,
     "metadata": {},
     "output_type": "execute_result"
    }
   ],
   "source": [
    "dfP[\"defense\"].head()"
   ]
  },
  {
   "cell_type": "code",
   "execution_count": 202,
   "id": "97a36528-e26b-4fc0-9f86-d2f2a0f61ea7",
   "metadata": {},
   "outputs": [],
   "source": [
    "nbrs_3 = KNeighborsClassifier(n_neighbors = 3, n_jobs = -1)"
   ]
  },
  {
   "cell_type": "code",
   "execution_count": 203,
   "id": "ecd4a6bc-0952-4104-8d9d-0a707c96600a",
   "metadata": {},
   "outputs": [
    {
     "data": {
      "text/plain": [
       "KNeighborsClassifier(n_jobs=-1, n_neighbors=3)"
      ]
     },
     "execution_count": 203,
     "metadata": {},
     "output_type": "execute_result"
    }
   ],
   "source": [
    "nbrs_3.fit(cols, dfP[\"defense\"])"
   ]
  },
  {
   "cell_type": "code",
   "execution_count": 204,
   "id": "6f0bc4a5-e4e1-427d-a62d-861361bebdda",
   "metadata": {},
   "outputs": [],
   "source": [
    "pred = nbrs_3.predict(cols)"
   ]
  },
  {
   "cell_type": "code",
   "execution_count": 205,
   "id": "3e8f3af7-586c-4755-b264-178d7656dd38",
   "metadata": {},
   "outputs": [
    {
     "data": {
      "text/plain": [
       "0.9038701622971286"
      ]
     },
     "execution_count": 205,
     "metadata": {},
     "output_type": "execute_result"
    }
   ],
   "source": [
    "# El 90% están clasificados correctamente, esta medida puede ser engañosa, ya que no conocemos la proporción de nuestros datos\n",
    "np.mean(pred == dfP[\"defense\"])"
   ]
  },
  {
   "cell_type": "code",
   "execution_count": 206,
   "id": "a7aee79b-77ef-4ef0-929f-37a10687cf29",
   "metadata": {},
   "outputs": [
    {
     "data": {
      "text/plain": [
       "0.3233458177278402"
      ]
     },
     "execution_count": 206,
     "metadata": {},
     "output_type": "execute_result"
    }
   ],
   "source": [
    "# 32% de Pokemon con una defensa inferior a 80\n",
    "np.mean(dfP[\"defense\"] == \"Fuerte\")"
   ]
  },
  {
   "cell_type": "code",
   "execution_count": 207,
   "id": "a5e94e00-b5ff-419a-8f9d-43062b82f85a",
   "metadata": {},
   "outputs": [
    {
     "data": {
      "text/plain": [
       "0.6766541822721598"
      ]
     },
     "execution_count": 207,
     "metadata": {},
     "output_type": "execute_result"
    }
   ],
   "source": [
    "# 67% de Pokemon con una defensa superior a 80\n",
    "np.mean(dfP[\"defense\"] == \"Normal-Bajo\")"
   ]
  },
  {
   "cell_type": "code",
   "execution_count": 208,
   "id": "e350375e-ff2a-4b4a-a395-27334c09a1e8",
   "metadata": {},
   "outputs": [
    {
     "data": {
      "text/plain": [
       "1.0"
      ]
     },
     "execution_count": 208,
     "metadata": {},
     "output_type": "execute_result"
    }
   ],
   "source": [
    "# Vamos a ir ajustando mejor la métrica, miramos solo el vecino de al lado.\n",
    "nbrs_1 = KNeighborsClassifier(n_neighbors = 1, n_jobs = -1)\n",
    "nbrs_1.fit(cols, dfP[\"defense\"])\n",
    "pred2 = nbrs_1.predict(cols)\n",
    "np.mean(pred2 == dfP[\"defense\"])"
   ]
  },
  {
   "cell_type": "code",
   "execution_count": 209,
   "id": "87d6e58d-c3d0-4c12-a87b-a5a94ce41777",
   "metadata": {},
   "outputs": [
    {
     "name": "stdout",
     "output_type": "stream",
     "text": [
      "[[259  57]\n",
      " [  0 485]]\n"
     ]
    }
   ],
   "source": [
    "# Exploramos la matriz de confusión para ver cuánto de bien hemos predicho los casos.\n",
    "from sklearn.metrics import confusion_matrix\n",
    "confusion_matrix = confusion_matrix(newdf[\"defense\"], pred2)\n",
    "print(confusion_matrix)"
   ]
  },
  {
   "cell_type": "code",
   "execution_count": 210,
   "id": "8dce09d4-d468-43d4-aade-dfe705164bef",
   "metadata": {},
   "outputs": [],
   "source": [
    "# (0,0) -> En este caso el valor real de los datos eran 0 (False = débil) y el modelo ha predicho como 0 (débil).\n",
    "# (0,1) -> En este caso el valor real de los datos eran 0 (False = défil) y el modelo ha predicho como 1 (fuerte).\n",
    "# (1,0) -> En este caso el valor real de los datos eran 1 (True = fuerte) y el modelo ha predicho como 0 (débil).\n",
    "# (1,1) -> En este caso el valor real de los datos eran 1 (True = fuerte) y el modelo ha predicho como 1 (fuerte)."
   ]
  }
 ],
 "metadata": {
  "kernelspec": {
   "display_name": "Python 3",
   "language": "python",
   "name": "python3"
  },
  "language_info": {
   "codemirror_mode": {
    "name": "ipython",
    "version": 3
   },
   "file_extension": ".py",
   "mimetype": "text/x-python",
   "name": "python",
   "nbconvert_exporter": "python",
   "pygments_lexer": "ipython3",
   "version": "3.8.8"
  }
 },
 "nbformat": 4,
 "nbformat_minor": 5
}
