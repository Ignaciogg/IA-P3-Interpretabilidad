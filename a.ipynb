{
 "cells": [
  {
   "cell_type": "code",
   "execution_count": 1,
   "metadata": {},
   "outputs": [],
   "source": [
    "### Bibliotecas básicas de gestión de datos\n",
    "import pandas as pd\n",
    "import numpy as np\n",
    "\n",
    "### Bibliotecas gráficas\n",
    "import matplotlib.pyplot as plt\n",
    "import seaborn as sns \n",
    "\n",
    "### Utilidades Scikit-learn \n",
    "from sklearn.model_selection import train_test_split\n",
    "\n",
    "### Métricas\n",
    "from sklearn import metrics\n",
    "from sklearn.metrics import accuracy_score, roc_curve, auc\n",
    "\n",
    "### Modelos\n",
    "from xgboost import XGBClassifier, plot_importance\n",
    "\n",
    "########################################################\n",
    "### Para un flujo de trabajo más rápido, las bibliotecas de Interpretabilidad\n",
    "### se instalarán/cargarán sobre la marcha del tutorial\n",
    "########################################################\n",
    "\n",
    "### Add-ons adicionales\n",
    "import warnings\n",
    "warnings.filterwarnings('ignore')\n",
    "plt.style.use('fivethirtyeight')\n",
    "%matplotlib inline"
   ]
  },
  {
   "cell_type": "code",
   "execution_count": 3,
   "metadata": {},
   "outputs": [],
   "source": [
    "from sklearn import preprocessing\n",
    "import pandas as pd\n",
    "import numpy as np\n",
    "\n",
    "#leemos archivo de pokemon\n",
    "df = pd.read_csv(\"Datos/pokemon2.csv\", nrows = 100000)\n",
    "df_fights = pd.read_csv(\"Datos/combats.csv\", nrows = 100000)\n",
    "\n",
    "#Transformación de las columnas Type 1 y Type 2 con datos tipo String en columnas de tipos de pokemon con booleanos\n",
    "types1 = pd.get_dummies(df[\"Type 1\"])\n",
    "types2 = pd.get_dummies(df[\"Type 2\"])\n",
    "pd.set_option('max_rows', None)\n",
    "pd.reset_option('max_rows')\n",
    "types = types1 | types2\n",
    "\n",
    "df_clean = pd.merge(df, types, left_index=True, right_index=True)\n",
    "\n",
    "df_clean.dropna(thresh=28,inplace=True)\n",
    "df_clean.drop([\"Type 1\", \"Type 2\"], axis = 1,inplace= True)\n",
    "\n",
    "# Se cambia el nombre de las columnas del dataframe de combates\n",
    "df_fights.rename(columns = {'First_pokemon':'ID1', 'Second_pokemon':'ID2',\n",
    " 'Winner': 'isFirstWinner'}, inplace = True)\n",
    "\n",
    "#Se cambia el valor del la columna ganadora por un true o un false dependiendo de si ha ganado el pokemon de la primera columna o no\n",
    "df_fights.loc[df_fights['isFirstWinner'] == df_fights['ID1'], 'isFirstWinner'] = True\n",
    "df_fights.loc[df_fights['isFirstWinner'] == df_fights['ID2'], 'isFirstWinner'] = False\n",
    "df_fights.dropna(inplace=True)\n",
    "\n",
    "# Igualamos el nombre de la columna del id a ID1\n",
    "df_clean.rename(columns = {'#':'ID1'}, inplace= True)\n",
    "df_clean.columns\n",
    "df_fights.columns\n",
    "\n",
    "#Añadimos todos los campos del 1er pokemon a la tabla\n",
    "df_fights = df_fights.merge(df_clean, on='ID1')\n",
    "df_fights\n",
    "\n",
    "# Igualamos el nombre de la columna del id a ID2\n",
    "df_clean.rename(columns = {'ID1':'ID2'}, inplace= True)\n",
    "#Añadimos todos los campos del 2º pokemon a la tabla\n",
    "df_fights = df_fights.merge(df_clean, on='ID2')\n",
    "\n",
    "#El resultado de los ultimos dos merges es un dataframe cuyas columnas son\n",
    "#los datos de dos pokemon en una misma linea y si el primero de ellos es el ganador del combate o no\n",
    "\n",
    "df_fights = df_fights.drop([\"ID1\",\"ID2\"], axis = 1)\n",
    "\n",
    "#cambiamos true y false por ints 1 y 0 por comodidad\n",
    "df_fights[\"isFirstWinner\"] = df_fights[\"isFirstWinner\"].astype(int)\n",
    "\n",
    "df_scaled =df_fights.drop([\"Name_x\",\"Name_y\"], axis=1)\n",
    "\n",
    "\n",
    "df_scaled = df_scaled.sample(frac = 1)\n",
    "dftest = df_scaled.tail(30000)\n",
    "dfrest = df_scaled.head(20000)"
   ]
  },
  {
   "cell_type": "code",
   "execution_count": 4,
   "metadata": {},
   "outputs": [
    {
     "data": {
      "text/plain": [
       "((37500, 52), (12500, 52))"
      ]
     },
     "execution_count": 4,
     "metadata": {},
     "output_type": "execute_result"
    }
   ],
   "source": [
    "# Crear el objetivo y la columna de características y dividir el conjunto de datos en conjunto de prueba y de entrenamiento.\n",
    "\n",
    "X = df_scaled.iloc[:, :-1]\n",
    "y = df_scaled.iloc[:, -1]\n",
    "\n",
    "# 75% para entrenamiento, 25% para test\n",
    "X_train, X_test, y_train, y_test = train_test_split(X, y, test_size=0.25, random_state=0)\n",
    "X_train.shape, X_test.shape"
   ]
  }
 ],
 "metadata": {
  "interpreter": {
   "hash": "5a1f7e21c48011d4b9a5f83aa25d8caf42ea16bbbf0c34e2ecc664dd12f8c397"
  },
  "kernelspec": {
   "display_name": "Python 3.10.1 64-bit",
   "language": "python",
   "name": "python3"
  },
  "language_info": {
   "codemirror_mode": {
    "name": "ipython",
    "version": 3
   },
   "file_extension": ".py",
   "mimetype": "text/x-python",
   "name": "python",
   "nbconvert_exporter": "python",
   "pygments_lexer": "ipython3",
   "version": "3.9.2"
  },
  "orig_nbformat": 4
 },
 "nbformat": 4,
 "nbformat_minor": 2
}
